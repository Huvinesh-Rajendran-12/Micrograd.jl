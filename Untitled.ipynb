{
 "cells": [
  {
   "cell_type": "code",
   "execution_count": 5,
   "id": "3bf75d4c",
   "metadata": {},
   "outputs": [],
   "source": [
    "from tensor import Tensor"
   ]
  },
  {
   "cell_type": "code",
   "execution_count": 6,
   "id": "e46466cb",
   "metadata": {},
   "outputs": [],
   "source": [
    "from time import now"
   ]
  },
  {
   "cell_type": "code",
   "execution_count": 4,
   "id": "a6c6a763",
   "metadata": {},
   "outputs": [
    {
     "name": "stdout",
     "output_type": "stream",
     "text": [
      "2\r\n"
     ]
    }
   ],
   "source": [
    "print(1 + 1)"
   ]
  },
  {
   "cell_type": "code",
   "execution_count": null,
   "id": "e213135a",
   "metadata": {},
   "outputs": [
    {
     "name": "stderr",
     "output_type": "stream",
     "text": [
      "error: \u001b[0;1;31m\u001b[1mExpression [10]:5:31: \u001b[0m\u001b[1mcannot construct 'Tensor[f32]' from 'FloatLiteral' value in assignment\n",
      "\u001b[0mtensor = Tensor[DType.float32](2.0)  # Create your tensor\n",
      "\u001b[0;1;32m         ~~~~~~~~~~~~~~~~~~~~~^~~~~\n",
      "\u001b[0m\u001b[0m\n",
      "expression failed to parse (no further compiler diagnostics)"
     ]
    }
   ],
   "source": [
    "import time  # Import the time module\n",
    "\n",
    "start_time = time.now()   # Get the starting time\n",
    "\n",
    "tensor = Tensor[DType.float32](2.0)  # Create your tensor\n",
    "# If your tensor is the result of a function/computation instead of a constant \n",
    "# like `[2.0]`, then place it here instead.\n",
    "\n",
    "end_time = time.now()     # Get the ending time\n",
    "elapsed_time = end_time - start_time  # Calculate the elapsed time\n",
    "\n",
    "# Convert elapsed time to seconds for better readability (optional)\n",
    "elapsed_time_seconds = elapsed_time / 1e9\n",
    "\n",
    "print(\"Tensor creation time:\", elapsed_time_seconds, \"seconds\")"
   ]
  },
  {
   "cell_type": "code",
   "execution_count": null,
   "id": "1ef685c8",
   "metadata": {},
   "outputs": [],
   "source": []
  }
 ],
 "metadata": {
  "kernelspec": {
   "display_name": "Mojo",
   "language": "mojo",
   "name": "mojo-jupyter-kernel"
  },
  "language_info": {
   "codemirror_mode": {
    "name": "mojo"
   },
   "file_extension": ".mojo",
   "mimetype": "text/x-mojo",
   "name": "mojo"
  }
 },
 "nbformat": 4,
 "nbformat_minor": 5
}

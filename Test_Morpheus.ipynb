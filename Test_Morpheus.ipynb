{
 "cells": [
  {
   "cell_type": "code",
   "execution_count": 1,
   "id": "1cc272e4",
   "metadata": {},
   "outputs": [],
   "source": [
    "using Morpheus"
   ]
  },
  {
   "cell_type": "code",
   "execution_count": 6,
   "id": "405fdf94",
   "metadata": {},
   "outputs": [
    {
     "name": "stdout",
     "output_type": "stream",
     "text": [
      "  0.000012 seconds (6 allocations: 448 bytes)\n"
     ]
    },
    {
     "data": {
      "text/plain": [
       "Axion(data=1.0, grad=0.0, dtype=Float32)"
      ]
     },
     "execution_count": 6,
     "metadata": {},
     "output_type": "execute_result"
    }
   ],
   "source": [
    "@time Axion(1.0)"
   ]
  },
  {
   "cell_type": "code",
   "execution_count": 8,
   "id": "3bb6d37b",
   "metadata": {},
   "outputs": [
    {
     "name": "stdout",
     "output_type": "stream",
     "text": [
      "  0.000181 seconds (32 allocations: 2.031 KiB)\n"
     ]
    },
    {
     "data": {
      "text/plain": [
       "4-element Vector{Axion{Float32}}:\n",
       " Axion(data=1.0, grad=0.0, dtype=Float32)\n",
       " Axion(data=2.0, grad=0.0, dtype=Float32)\n",
       " Axion(data=3.0, grad=0.0, dtype=Float32)\n",
       " Axion(data=4.0, grad=0.0, dtype=Float32)"
      ]
     },
     "execution_count": 8,
     "metadata": {},
     "output_type": "execute_result"
    }
   ],
   "source": [
    "@time y = to_value([1.0, 2.0, 3.0, 4.0])"
   ]
  },
  {
   "cell_type": "code",
   "execution_count": 9,
   "id": "e28bc682",
   "metadata": {},
   "outputs": [
    {
     "name": "stdout",
     "output_type": "stream",
     "text": [
      "  0.010912 seconds (4.32 k allocations: 303.281 KiB, 99.41% compilation time)\n"
     ]
    },
    {
     "data": {
      "text/plain": [
       "4×1 Matrix{Axion{Float32}}:\n",
       " Axion(data=1.0, grad=0.0, dtype=Float32)\n",
       " Axion(data=2.0, grad=0.0, dtype=Float32)\n",
       " Axion(data=3.0, grad=0.0, dtype=Float32)\n",
       " Axion(data=4.0, grad=0.0, dtype=Float32)"
      ]
     },
     "execution_count": 9,
     "metadata": {},
     "output_type": "execute_result"
    }
   ],
   "source": [
    "@time z = to_matrix_value(y)"
   ]
  },
  {
   "cell_type": "code",
   "execution_count": 12,
   "id": "541f4241",
   "metadata": {},
   "outputs": [
    {
     "name": "stdout",
     "output_type": "stream",
     "text": [
      "  0.000013 seconds (34 allocations: 2.109 KiB)\n"
     ]
    },
    {
     "data": {
      "text/plain": [
       "4×1 Matrix{Axion{Float32}}:\n",
       " Axion(data=1.0, grad=0.0, dtype=Float32)\n",
       " Axion(data=4.0, grad=0.0, dtype=Float32)\n",
       " Axion(data=9.0, grad=0.0, dtype=Float32)\n",
       " Axion(data=16.0, grad=0.0, dtype=Float32)"
      ]
     },
     "execution_count": 12,
     "metadata": {},
     "output_type": "execute_result"
    }
   ],
   "source": [
    "@time z .* y"
   ]
  },
  {
   "cell_type": "code",
   "execution_count": 13,
   "id": "f6ce6ade",
   "metadata": {},
   "outputs": [
    {
     "name": "stdout",
     "output_type": "stream",
     "text": [
      "  0.116273 seconds (95.78 k allocations: 6.554 MiB, 17.30% gc time, 99.92% compilation time)\n"
     ]
    },
    {
     "data": {
      "text/plain": [
       "4×1 Matrix{Axion{Float32}}:\n",
       " Axion(data=1.0, grad=0.0, dtype=Float32)\n",
       " Axion(data=4.0, grad=0.0, dtype=Float32)\n",
       " Axion(data=9.0, grad=0.0, dtype=Float32)\n",
       " Axion(data=16.0, grad=0.0, dtype=Float32)"
      ]
     },
     "execution_count": 13,
     "metadata": {},
     "output_type": "execute_result"
    }
   ],
   "source": [
    "@time y .* z"
   ]
  },
  {
   "cell_type": "code",
   "execution_count": 15,
   "id": "28a4bd58",
   "metadata": {},
   "outputs": [
    {
     "name": "stdout",
     "output_type": "stream",
     "text": [
      "  0.000011 seconds (20 allocations: 1.375 KiB)\n"
     ]
    },
    {
     "data": {
      "text/plain": [
       "Axion(data=4.0, grad=0.0, dtype=Float32)"
      ]
     },
     "execution_count": 15,
     "metadata": {},
     "output_type": "execute_result"
    }
   ],
   "source": [
    "@time Axion(1.0) * Axion(4.0)"
   ]
  },
  {
   "cell_type": "code",
   "execution_count": 16,
   "id": "2df88a15",
   "metadata": {},
   "outputs": [
    {
     "name": "stdout",
     "output_type": "stream",
     "text": [
      "  0.000004 seconds (20 allocations: 1.375 KiB)\n"
     ]
    },
    {
     "data": {
      "text/plain": [
       "Axion(data=7.0, grad=0.0, dtype=Float32)"
      ]
     },
     "execution_count": 16,
     "metadata": {},
     "output_type": "execute_result"
    }
   ],
   "source": [
    "@time Axion(4.0) + Axion(3.0)"
   ]
  },
  {
   "cell_type": "code",
   "execution_count": 17,
   "id": "b56b2b6f",
   "metadata": {},
   "outputs": [
    {
     "ename": "LoadError",
     "evalue": "UndefVarError: `Layer` not defined",
     "output_type": "error",
     "traceback": [
      "UndefVarError: `Layer` not defined",
      "",
      "Stacktrace:",
      " [1] top-level scope",
      "   @ In[17]:1"
     ]
    }
   ],
   "source": [
    "layer = Layer()"
   ]
  },
  {
   "cell_type": "code",
   "execution_count": 18,
   "id": "e8da43af",
   "metadata": {},
   "outputs": [
    {
     "name": "stdout",
     "output_type": "stream",
     "text": [
      "  0.000017 seconds (14 allocations: 944 bytes)\n"
     ]
    },
    {
     "data": {
      "text/plain": [
       "Axion(data=0.9950548, grad=0.0, dtype=Float32)"
      ]
     },
     "execution_count": 18,
     "metadata": {},
     "output_type": "execute_result"
    }
   ],
   "source": [
    "@time tanh(Axion(3.0))"
   ]
  },
  {
   "cell_type": "code",
   "execution_count": null,
   "id": "03a0a69e",
   "metadata": {},
   "outputs": [],
   "source": []
  }
 ],
 "metadata": {
  "kernelspec": {
   "display_name": "Julia 1.10.2",
   "language": "julia",
   "name": "julia-1.10"
  },
  "language_info": {
   "file_extension": ".jl",
   "mimetype": "application/julia",
   "name": "julia",
   "version": "1.10.2"
  }
 },
 "nbformat": 4,
 "nbformat_minor": 5
}
